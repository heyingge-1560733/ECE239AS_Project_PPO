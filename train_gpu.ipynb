{
 "cells": [
  {
   "cell_type": "code",
   "execution_count": null,
   "metadata": {
    "colab": {
     "base_uri": "https://localhost:8080/"
    },
    "executionInfo": {
     "elapsed": 18653,
     "status": "ok",
     "timestamp": 1623316740610,
     "user": {
      "displayName": "YINGGE HE",
      "photoUrl": "",
      "userId": "06084683393252310217"
     },
     "user_tz": 420
    },
    "id": "oBKYxjaKKkfe",
    "outputId": "b74870e5-e131-4b1c-d2f7-d371e579b8fd"
   },
   "outputs": [],
   "source": [
    "# To add your own Drive Run this cell.`\n",
    "from google.colab import drive\n",
    "drive.mount('/content/drive')\n",
    "%cd 'drive/MyDrive/Colab Notebooks/RL/'"
   ]
  },
  {
   "cell_type": "code",
   "execution_count": null,
   "metadata": {
    "colab": {
     "base_uri": "https://localhost:8080/"
    },
    "executionInfo": {
     "elapsed": 13872,
     "status": "ok",
     "timestamp": 1623316762171,
     "user": {
      "displayName": "YINGGE HE",
      "photoUrl": "",
      "userId": "06084683393252310217"
     },
     "user_tz": 420
    },
    "id": "lXcCZTL6M0sE",
    "outputId": "235a8c2b-4bb1-4a9a-def8-ce702518fb29"
   },
   "outputs": [],
   "source": [
    "!pip install wandb\n",
    "!pip install stable_baselines3\n",
    "!pip install atari-py\n",
    "!python -m atari_py.import_roms ROM\n",
    "# replace with \"!wandb offline\" if don't use wandb\n",
    "!wandb offline"
   ]
  },
  {
   "cell_type": "code",
   "execution_count": null,
   "metadata": {},
   "outputs": [
    {
     "name": "stdout",
     "output_type": "stream",
     "text": [
      "\u001b[34m\u001b[1mwandb\u001b[0m: W&B syncing is set to `offline` in this directory.  Run `wandb online` or set WANDB_MODE=online to enable cloud syncing.\n",
      "Running experiment with device: cpu\n",
      "Global Step: 1024\tAverage Score: 0.00\n",
      "Global Step: 2048\tAverage Score: 0.90\n",
      "Global Step: 3072\tAverage Score: 0.85\n",
      "Global Step: 4096\tAverage Score: 1.48\n",
      "Global Step: 5120\tAverage Score: 1.22\n",
      "Global Step: 6144\tAverage Score: 1.18\n",
      "Global Step: 7168\tAverage Score: 1.26\n",
      "Global Step: 8192\tAverage Score: 1.41\n",
      "Global Step: 9216\tAverage Score: 1.40\n",
      "Global Step: 10240\tAverage Score: 1.34\n",
      "Global Step: 11264\tAverage Score: 1.42\n"
     ]
    }
   ],
   "source": [
    "!python main_atari.py"
   ]
  },
  {
   "cell_type": "code",
   "execution_count": null,
   "metadata": {},
   "outputs": [],
   "source": []
  }
 ],
 "metadata": {
  "accelerator": "GPU",
  "colab": {
   "collapsed_sections": [],
   "machine_shape": "hm",
   "name": "train_gpu.ipynb",
   "provenance": []
  },
  "kernelspec": {
   "display_name": "Python 3",
   "language": "python",
   "name": "python3"
  },
  "language_info": {
   "codemirror_mode": {
    "name": "ipython",
    "version": 3
   },
   "file_extension": ".py",
   "mimetype": "text/x-python",
   "name": "python",
   "nbconvert_exporter": "python",
   "pygments_lexer": "ipython3",
   "version": "3.7.3"
  }
 },
 "nbformat": 4,
 "nbformat_minor": 1
}
